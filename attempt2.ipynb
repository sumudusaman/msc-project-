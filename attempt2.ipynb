{
 "cells": [
  {
   "cell_type": "code",
   "execution_count": 6,
   "metadata": {},
   "outputs": [],
   "source": [
    "# import libraries\n",
    "import numpy as np \n",
    "import pandas as pd  \n",
    "from keras.layers import Dense, Embedding, LSTM, SpatialDropout1D\n",
    "from keras.models import Sequential\n",
    "from sklearn.feature_extraction.text import CountVectorizer\n",
    "from keras.preprocessing.text import Tokenizer\n",
    "from keras.preprocessing.sequence import pad_sequences\n",
    "from sklearn.model_selection import train_test_split\n",
    "from keras.utils.np_utils import to_categorical\n",
    "from keras.callbacks import EarlyStopping"
   ]
  },
  {
   "cell_type": "code",
   "execution_count": 7,
   "metadata": {},
   "outputs": [],
   "source": [
    "# read data from csv file (columns TITLE and CATEGORY)\n",
    "\n",
    "data = pd.read_csv('C:/Users/sumud/Documents/AI/attempt2/uci-news-aggregator.csv', usecols=['TITLE', 'CATEGORY'])"
   ]
  },
  {
   "cell_type": "code",
   "execution_count": 8,
   "metadata": {},
   "outputs": [
    {
     "data": {
      "text/plain": [
       "e    152469\n",
       "b    115967\n",
       "t    108344\n",
       "m     45639\n",
       "Name: CATEGORY, dtype: int64"
      ]
     },
     "execution_count": 8,
     "metadata": {},
     "output_type": "execute_result"
    }
   ],
   "source": [
    "# print the item count for each category\n",
    "data.CATEGORY.value_counts()"
   ]
  },
  {
   "cell_type": "code",
   "execution_count": 9,
   "metadata": {},
   "outputs": [],
   "source": [
    "# define the number of items per class - keep it a constant\n",
    "items_per_cat = 45000\n",
    "# shuffle the data set\n",
    "shufds = data.reindex(np.random.permutation(data.index))\n",
    "\n",
    "# for each category, get items to match items_per_cat\n",
    "e = shufds[shufds['CATEGORY'] == 'e'][:items_per_cat]\n",
    "b = shufds[shufds['CATEGORY'] == 'b'][:items_per_cat]\n",
    "t = shufds[shufds['CATEGORY'] == 't'][:items_per_cat]\n",
    "m = shufds[shufds['CATEGORY'] == 'm'][:items_per_cat]\n",
    "\n",
    "# contacenate the list again\n",
    "concated = pd.concat([e,b,t,m], ignore_index=True)\n",
    "# shuffle\n",
    "concated = concated.reindex(np.random.permutation(concated.index))\n",
    "# create a column for LABEL (keep default to 0)\n",
    "concated['LABEL'] = 0"
   ]
  },
  {
   "cell_type": "code",
   "execution_count": 10,
   "metadata": {},
   "outputs": [
    {
     "name": "stdout",
     "output_type": "stream",
     "text": [
      "113404    2\n",
      "168188    3\n",
      "7454      0\n",
      "48950     1\n",
      "83465     1\n",
      "106306    2\n",
      "4203      0\n",
      "161538    3\n",
      "124550    2\n",
      "107009    2\n",
      "Name: LABEL, dtype: int64\n",
      "[[0. 0. 1. 0.]\n",
      " [0. 0. 0. 1.]\n",
      " [1. 0. 0. 0.]\n",
      " [0. 1. 0. 0.]\n",
      " [0. 1. 0. 0.]\n",
      " [0. 0. 1. 0.]\n",
      " [1. 0. 0. 0.]\n",
      " [0. 0. 0. 1.]\n",
      " [0. 0. 1. 0.]\n",
      " [0. 0. 1. 0.]]\n"
     ]
    }
   ],
   "source": [
    "# one hot encoding (assign an index to each label)\n",
    "concated.loc[concated['CATEGORY'] == 'e', 'LABEL'] = 0\n",
    "concated.loc[concated['CATEGORY'] == 'b', 'LABEL'] = 1\n",
    "concated.loc[concated['CATEGORY'] == 't', 'LABEL'] = 2\n",
    "concated.loc[concated['CATEGORY'] == 'm', 'LABEL'] = 3\n",
    "print(concated['LABEL'][:10])\n",
    "# labels to categirical (4 classes)\n",
    "labels = to_categorical(concated['LABEL'], num_classes=4)\n",
    "print(labels[:10])\n",
    "if 'CATEGORY' in concated.keys():\n",
    "    concated.drop(['CATEGORY'], axis=1)"
   ]
  },
  {
   "cell_type": "code",
   "execution_count": 11,
   "metadata": {},
   "outputs": [
    {
     "name": "stdout",
     "output_type": "stream",
     "text": [
      "Unique Tokens: 51800\n"
     ]
    }
   ],
   "source": [
    "# tokanize the dataset\n",
    "# maximum number of words to consider is 8000\n",
    "max_number_of_words = 8000\n",
    "# maximum length of a single sentence is 130 words (remain will be trimmed)\n",
    "max_len = 130\n",
    "tokenizer = Tokenizer(num_words=max_number_of_words, filters='!\"#$%&()*+,-./:;<=>?@[\\]^_`{|}~', lower=True)\n",
    "tokenizer.fit_on_texts(concated['TITLE'].values)\n",
    "sequences = tokenizer.texts_to_sequences(concated['TITLE'].values)\n",
    "word_index = tokenizer.word_index\n",
    "print('Unique Tokens:', len(word_index))\n",
    "# use pad sequnece to make all sentences same size\n",
    "X = pad_sequences(sequences, maxlen=max_len)"
   ]
  },
  {
   "cell_type": "code",
   "execution_count": 12,
   "metadata": {},
   "outputs": [],
   "source": [
    "# prepare train and test sets\n",
    "X_train, X_test, y_train, y_test = train_test_split(X , labels, test_size=0.25, random_state=42)"
   ]
  },
  {
   "cell_type": "code",
   "execution_count": 13,
   "metadata": {},
   "outputs": [
    {
     "data": {
      "text/plain": [
       "array([[0., 0., 1., 0.],\n",
       "       [0., 0., 0., 1.]], dtype=float32)"
      ]
     },
     "execution_count": 13,
     "metadata": {},
     "output_type": "execute_result"
    }
   ],
   "source": [
    "# set number of epochs to 10\n",
    "epochs = 10\n",
    "# word embedding dimension\n",
    "emb_dim = 128\n",
    "# training batch size\n",
    "batch_size = 256\n",
    "\n",
    "labels[:2]"
   ]
  },
  {
   "cell_type": "code",
   "execution_count": 14,
   "metadata": {},
   "outputs": [
    {
     "name": "stdout",
     "output_type": "stream",
     "text": [
      "((135000, 130), (135000, 4), (45000, 130), (45000, 4))\n",
      "WARNING:tensorflow:From E:\\ProgramData\\Anaconda3\\lib\\site-packages\\tensorflow\\python\\framework\\op_def_library.py:263: colocate_with (from tensorflow.python.framework.ops) is deprecated and will be removed in a future version.\n",
      "Instructions for updating:\n",
      "Colocations handled automatically by placer.\n",
      "WARNING:tensorflow:From E:\\ProgramData\\Anaconda3\\lib\\site-packages\\keras\\backend\\tensorflow_backend.py:3445: calling dropout (from tensorflow.python.ops.nn_ops) with keep_prob is deprecated and will be removed in a future version.\n",
      "Instructions for updating:\n",
      "Please use `rate` instead of `keep_prob`. Rate should be set to `rate = 1 - keep_prob`.\n",
      "_________________________________________________________________\n",
      "Layer (type)                 Output Shape              Param #   \n",
      "=================================================================\n",
      "embedding_1 (Embedding)      (None, 130, 128)          1024000   \n",
      "_________________________________________________________________\n",
      "spatial_dropout1d_1 (Spatial (None, 130, 128)          0         \n",
      "_________________________________________________________________\n",
      "lstm_1 (LSTM)                (None, 64)                49408     \n",
      "_________________________________________________________________\n",
      "dense_1 (Dense)              (None, 4)                 260       \n",
      "=================================================================\n",
      "Total params: 1,073,668\n",
      "Trainable params: 1,073,668\n",
      "Non-trainable params: 0\n",
      "_________________________________________________________________\n",
      "None\n"
     ]
    }
   ],
   "source": [
    "# print the shapes of data sets\n",
    "print((X_train.shape, y_train.shape, X_test.shape, y_test.shape))\n",
    "\n",
    "# create the model\n",
    "model = Sequential()\n",
    "# add word embedding layer\n",
    "model.add(Embedding(max_number_of_words, emb_dim, input_length=X.shape[1]))\n",
    "# add a dropout layer (70%)\n",
    "model.add(SpatialDropout1D(0.7))\n",
    "# add LSTM layer\n",
    "model.add(LSTM(64, dropout=0.7, recurrent_dropout=0.7))\n",
    "# add a dence layer with 4 outputs and softmax activation\n",
    "model.add(Dense(4, activation='softmax'))\n",
    "# compile the model with categorical_crossentropy\n",
    "model.compile(optimizer='adam', loss='categorical_crossentropy', metrics=['acc'])\n",
    "# print the model summary\n",
    "print(model.summary())"
   ]
  },
  {
   "cell_type": "code",
   "execution_count": 15,
   "metadata": {},
   "outputs": [
    {
     "name": "stdout",
     "output_type": "stream",
     "text": [
      "WARNING:tensorflow:From E:\\ProgramData\\Anaconda3\\lib\\site-packages\\tensorflow\\python\\ops\\math_ops.py:3066: to_int32 (from tensorflow.python.ops.math_ops) is deprecated and will be removed in a future version.\n",
      "Instructions for updating:\n",
      "Use tf.cast instead.\n",
      "Train on 108000 samples, validate on 27000 samples\n",
      "Epoch 1/10\n",
      "108000/108000 [==============================] - 124s 1ms/step - loss: 0.8592 - acc: 0.6515 - val_loss: 0.3384 - val_acc: 0.8852\n",
      "Epoch 2/10\n",
      "108000/108000 [==============================] - 85s 787us/step - loss: 0.3914 - acc: 0.8656 - val_loss: 0.2664 - val_acc: 0.9083\n",
      "Epoch 3/10\n",
      "108000/108000 [==============================] - 86s 798us/step - loss: 0.3147 - acc: 0.8934 - val_loss: 0.2433 - val_acc: 0.9175\n",
      "Epoch 4/10\n",
      "108000/108000 [==============================] - 87s 802us/step - loss: 0.2781 - acc: 0.9061 - val_loss: 0.2353 - val_acc: 0.9194\n",
      "Epoch 5/10\n",
      "108000/108000 [==============================] - 87s 805us/step - loss: 0.2628 - acc: 0.9116 - val_loss: 0.2304 - val_acc: 0.9212\n",
      "Epoch 6/10\n",
      "108000/108000 [==============================] - 87s 804us/step - loss: 0.2455 - acc: 0.9176 - val_loss: 0.2279 - val_acc: 0.9231\n",
      "Epoch 7/10\n",
      "108000/108000 [==============================] - 87s 807us/step - loss: 0.2365 - acc: 0.9203 - val_loss: 0.2266 - val_acc: 0.9241\n",
      "Epoch 8/10\n",
      "108000/108000 [==============================] - 87s 810us/step - loss: 0.2285 - acc: 0.9227 - val_loss: 0.2277 - val_acc: 0.9236\n",
      "Epoch 9/10\n",
      "108000/108000 [==============================] - 87s 809us/step - loss: 0.2205 - acc: 0.9251 - val_loss: 0.2262 - val_acc: 0.9239\n",
      "Epoch 10/10\n",
      "108000/108000 [==============================] - 88s 811us/step - loss: 0.2147 - acc: 0.9276 - val_loss: 0.2264 - val_acc: 0.9228\n"
     ]
    }
   ],
   "source": [
    "# train the model\n",
    "\n",
    "history = model.fit(X_train, y_train, epochs=epochs, \n",
    "                    batch_size=batch_size,validation_split=0.2,\n",
    "                    callbacks=[EarlyStopping(monitor='val_loss',patience=7, min_delta=0.0001)])\n"
   ]
  },
  {
   "cell_type": "code",
   "execution_count": 16,
   "metadata": {},
   "outputs": [
    {
     "name": "stdout",
     "output_type": "stream",
     "text": [
      "45000/45000 [==============================] - 31s 696us/step\n",
      "Test set\n",
      "  Loss: 0.224\n",
      "  Accuracy: 0.923\n"
     ]
    }
   ],
   "source": [
    "# evaluate the model\n",
    "accr = model.evaluate(X_test,y_test)\n",
    "print('Test set\\n  Loss: {:0.3f}\\n  Accuracy: {:0.3f}'.format(accr[0],accr[1]))"
   ]
  },
  {
   "cell_type": "code",
   "execution_count": 18,
   "metadata": {},
   "outputs": [
    {
     "data": {
      "image/png": "[encoded data removed]",
      "text/plain": [
       "<Figure size 432x288 with 1 Axes>"
      ]
     },
     "metadata": {
      "needs_background": "light"
     },
     "output_type": "display_data"
    },
    {
     "data": {
      "image/png": "[encoded data removed]",
      "text/plain": [
       "<Figure size 432x288 with 1 Axes>"
      ]
     },
     "metadata": {
      "needs_background": "light"
     },
     "output_type": "display_data"
    }
   ],
   "source": [
    "# generate the graph for training and validation accuracy, and training and validation loss\n",
    "import matplotlib.pyplot as plt\n",
    "\n",
    "acc = history.history['acc']\n",
    "val_acc = history.history['val_acc']\n",
    "loss = history.history['loss']\n",
    "val_loss = history.history['val_loss']\n",
    "epochs = range(1, len(acc) + 1)\n",
    "plt.plot(epochs, acc, 'bo', label='Training acc')\n",
    "plt.plot(epochs, val_acc, 'b', label='Validation acc')\n",
    "plt.title('Training and validation accuracy')\n",
    "plt.legend()\n",
    "plt.figure()\n",
    "plt.plot(epochs, loss, 'bo', label='Training loss')\n",
    "plt.plot(epochs, val_loss, 'b', label='Validation loss')\n",
    "plt.title('Training and validation loss')\n",
    "plt.legend()\n",
    "plt.show()"
   ]
  },
  {
   "cell_type": "code",
   "execution_count": 19,
   "metadata": {},
   "outputs": [
    {
     "name": "stdout",
     "output_type": "stream",
     "text": [
      "[[1.0663921e-04 5.1352254e-04 1.0853143e-04 9.9927133e-01]] health\n"
     ]
    }
   ],
   "source": [
    "# try to predict a new text sentence\n",
    "txt = [\"Regular fast food eating linked to fertility issues in women\"]\n",
    "seq = tokenizer.texts_to_sequences(txt)\n",
    "padded = pad_sequences(seq, maxlen=max_len)\n",
    "pred = model.predict(padded)\n",
    "labels = ['entertainment', 'bussiness', 'science/tech', 'health']\n",
    "print(pred, labels[np.argmax(pred)])"
   ]
  },
  {
   "cell_type": "code",
   "execution_count": 20,
   "metadata": {},
   "outputs": [
    {
     "name": "stdout",
     "output_type": "stream",
     "text": [
      "Saved model to disk\n"
     ]
    }
   ],
   "source": [
    "# serialize model to JSON\n",
    "model_json = model.to_json()\n",
    "with open(\"C:/Users/sumud/Documents/AI/attempt2/final/model-2.json\", \"w\") as json_file:\n",
    "    json_file.write(model_json)\n",
    "# serialize weights to HDF5\n",
    "model.save_weights(\"C:/Users/sumud/Documents/AI/attempt2/final/model-2.h5\")\n",
    "print(\"Saved model to disk\")"
   ]
  },
  {
   "cell_type": "code",
   "execution_count": null,
   "metadata": {},
   "outputs": [],
   "source": [
    "# later...\n",
    " \n",
    "# load json and create model\n",
    "json_file = open('model.json', 'r')\n",
    "loaded_model_json = json_file.read()\n",
    "json_file.close()\n",
    "loaded_model = model_from_json(loaded_model_json)\n",
    "# load weights into new model\n",
    "loaded_model.load_weights(\"model.h5\")\n",
    "print(\"Loaded model from disk\")\n",
    " \n",
    "# evaluate loaded model on test data\n",
    "loaded_model.compile(loss='binary_crossentropy', optimizer='rmsprop', metrics=['accuracy'])\n",
    "score = loaded_model.evaluate(X, Y, verbose=0)\n",
    "print(\"%s: %.2f%%\" % (loaded_model.metrics_names[1], score[1]*100))"
   ]
  }
 ],
 "metadata": {
  "kernelspec": {
   "display_name": "Python 3",
   "language": "python",
   "name": "python3"
  },
  "language_info": {
   "codemirror_mode": {
    "name": "ipython",
    "version": 3
   },
   "file_extension": ".py",
   "mimetype": "text/x-python",
   "name": "python",
   "nbconvert_exporter": "python",
   "pygments_lexer": "ipython3",
   "version": "3.7.1"
  }
 },
 "nbformat": 4,
 "nbformat_minor": 2
}
