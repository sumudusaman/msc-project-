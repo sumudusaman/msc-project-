{
 "cells": [
  {
   "cell_type": "code",
   "execution_count": 3,
   "metadata": {},
   "outputs": [],
   "source": [
    "# import libraries\n",
    "import numpy as np \n",
    "import pandas as pd  \n",
    "from keras.layers import Dense, Embedding, LSTM, SpatialDropout1D\n",
    "from keras.models import Sequential\n",
    "from sklearn.feature_extraction.text import CountVectorizer\n",
    "from keras.preprocessing.text import Tokenizer\n",
    "from keras.preprocessing.sequence import pad_sequences\n",
    "from sklearn.model_selection import train_test_split\n",
    "from keras.utils.np_utils import to_categorical\n",
    "from keras.callbacks import EarlyStopping"
   ]
  },
  {
   "cell_type": "code",
   "execution_count": 4,
   "metadata": {},
   "outputs": [],
   "source": [
    "# read data from csv file (columns TITLE and CATEGORY)\n",
    "\n",
    "data = pd.read_csv('C:/Users/sumud/Documents/AI/attempt2/final/data-att3.csv', usecols=['Answer', 'Cat'])"
   ]
  },
  {
   "cell_type": "code",
   "execution_count": 6,
   "metadata": {},
   "outputs": [
    {
     "data": {
      "text/plain": [
       "Transfer           40\n",
       "CreditCard         36\n",
       "Account            25\n",
       "Balance            18\n",
       "Loans              12\n",
       "Info               11\n",
       "Branch              9\n",
       "Offers              4\n",
       "InternetBanking     4\n",
       "Fd                  3\n",
       "Name: Cat, dtype: int64"
      ]
     },
     "execution_count": 6,
     "metadata": {},
     "output_type": "execute_result"
    }
   ],
   "source": [
    "# print the item count for each category\n",
    "data.Cat.value_counts()"
   ]
  },
  {
   "cell_type": "code",
   "execution_count": 8,
   "metadata": {},
   "outputs": [],
   "source": [
    "# define the number of items per class - keep it a constant\n",
    "items_per_cat = 10\n",
    "# shuffle the data set\n",
    "shufds = data.reindex(np.random.permutation(data.index))\n",
    "\n",
    "# for each category, get items to match items_per_cat\n",
    "CreditCard = shufds[shufds['Cat'] == 'CreditCard'][:items_per_cat]\n",
    "Account = shufds[shufds['Cat'] == 'Account'][:items_per_cat]\n",
    "Loans = shufds[shufds['Cat'] == 'Loans'][:items_per_cat]\n",
    "Info = shufds[shufds['Cat'] == 'Info'][:items_per_cat]\n",
    "Branch = shufds[shufds['Cat'] == 'Branch'][:items_per_cat]\n",
    "Balance = shufds[shufds['Cat'] == 'Balance'][:items_per_cat]\n",
    "InternetBanking = shufds[shufds['Cat'] == 'InternetBanking'][:items_per_cat]\n",
    "Offers = shufds[shufds['Cat'] == 'Offers'][:items_per_cat]\n",
    "Transfer = shufds[shufds['Cat'] == 'Transfer'][:items_per_cat]\n",
    "Fd = shufds[shufds['Cat'] == 'Fd'][:items_per_cat]\n",
    "\n",
    "# contacenate the list again\n",
    "concated = pd.concat([CreditCard,Account,Loans,Info,Branch,Balance,InternetBanking,Offers,Transfer,Fd], ignore_index=True)\n",
    "# shuffle\n",
    "concated = concated.reindex(np.random.permutation(concated.index))\n",
    "# create a column for LABEL (keep default to 0)\n",
    "concated['LABEL'] = 0"
   ]
  },
  {
   "cell_type": "code",
   "execution_count": 9,
   "metadata": {},
   "outputs": [
    {
     "name": "stdout",
     "output_type": "stream",
     "text": [
      "45    4\n",
      "70    8\n",
      "24    2\n",
      "55    5\n",
      "12    1\n",
      "62    6\n",
      "74    8\n",
      "41    4\n",
      "42    4\n",
      "1     0\n",
      "Name: LABEL, dtype: int64\n",
      "[[0. 0. 0. 0. 1. 0. 0. 0. 0. 0.]\n",
      " [0. 0. 0. 0. 0. 0. 0. 0. 1. 0.]\n",
      " [0. 0. 1. 0. 0. 0. 0. 0. 0. 0.]\n",
      " [0. 0. 0. 0. 0. 1. 0. 0. 0. 0.]\n",
      " [0. 1. 0. 0. 0. 0. 0. 0. 0. 0.]\n",
      " [0. 0. 0. 0. 0. 0. 1. 0. 0. 0.]\n",
      " [0. 0. 0. 0. 0. 0. 0. 0. 1. 0.]\n",
      " [0. 0. 0. 0. 1. 0. 0. 0. 0. 0.]\n",
      " [0. 0. 0. 0. 1. 0. 0. 0. 0. 0.]\n",
      " [1. 0. 0. 0. 0. 0. 0. 0. 0. 0.]]\n"
     ]
    }
   ],
   "source": [
    "# one hot encoding (assign an index to each label)\n",
    "concated.loc[concated['Cat'] == 'CreditCard', 'LABEL'] = 0\n",
    "concated.loc[concated['Cat'] == 'Account', 'LABEL'] = 1\n",
    "concated.loc[concated['Cat'] == 'Loans', 'LABEL'] = 2\n",
    "concated.loc[concated['Cat'] == 'Info', 'LABEL'] = 3\n",
    "concated.loc[concated['Cat'] == 'Branch', 'LABEL'] = 4\n",
    "concated.loc[concated['Cat'] == 'Balance', 'LABEL'] = 5\n",
    "concated.loc[concated['Cat'] == 'InternetBanking', 'LABEL'] = 6\n",
    "concated.loc[concated['Cat'] == 'Offers', 'LABEL'] = 7\n",
    "concated.loc[concated['Cat'] == 'Transfer', 'LABEL'] = 8\n",
    "concated.loc[concated['Cat'] == 'Fd', 'LABEL'] = 9\n",
    "print(concated['LABEL'][:10])\n",
    "# labels to categirical (10 classes)\n",
    "labels = to_categorical(concated['LABEL'], num_classes=10)\n",
    "print(labels[:10])"
   ]
  },
  {
   "cell_type": "code",
   "execution_count": 10,
   "metadata": {},
   "outputs": [
    {
     "data": {
      "text/html": [
       "<div>\n",
       "<style scoped>\n",
       "    .dataframe tbody tr th:only-of-type {\n",
       "        vertical-align: middle;\n",
       "    }\n",
       "\n",
       "    .dataframe tbody tr th {\n",
       "        vertical-align: top;\n",
       "    }\n",
       "\n",
       "    .dataframe thead th {\n",
       "        text-align: right;\n",
       "    }\n",
       "</style>\n",
       "<table border=\"1\" class=\"dataframe\">\n",
       "  <thead>\n",
       "    <tr style=\"text-align: right;\">\n",
       "      <th></th>\n",
       "      <th>Answer</th>\n",
       "      <th>Cat</th>\n",
       "      <th>LABEL</th>\n",
       "    </tr>\n",
       "  </thead>\n",
       "  <tbody>\n",
       "    <tr>\n",
       "      <th>45</th>\n",
       "      <td>Can you advise on the operating hours?</td>\n",
       "      <td>Branch</td>\n",
       "      <td>4</td>\n",
       "    </tr>\n",
       "    <tr>\n",
       "      <th>70</th>\n",
       "      <td>How will I know if a future transfer is succes...</td>\n",
       "      <td>Transfer</td>\n",
       "      <td>8</td>\n",
       "    </tr>\n",
       "    <tr>\n",
       "      <th>24</th>\n",
       "      <td>want to apply personal loan</td>\n",
       "      <td>Loans</td>\n",
       "      <td>2</td>\n",
       "    </tr>\n",
       "    <tr>\n",
       "      <th>55</th>\n",
       "      <td>how do I check balance of current account? Can...</td>\n",
       "      <td>Balance</td>\n",
       "      <td>5</td>\n",
       "    </tr>\n",
       "    <tr>\n",
       "      <th>12</th>\n",
       "      <td>Want to know satus of my salary account applic...</td>\n",
       "      <td>Account</td>\n",
       "      <td>1</td>\n",
       "    </tr>\n",
       "    <tr>\n",
       "      <th>62</th>\n",
       "      <td>I cannot find how to transfer money in interne...</td>\n",
       "      <td>InternetBanking</td>\n",
       "      <td>6</td>\n",
       "    </tr>\n",
       "    <tr>\n",
       "      <th>74</th>\n",
       "      <td>Can I transfer money to India online? Is there...</td>\n",
       "      <td>Transfer</td>\n",
       "      <td>8</td>\n",
       "    </tr>\n",
       "    <tr>\n",
       "      <th>41</th>\n",
       "      <td>Wheres the nearest branch to Sengkang</td>\n",
       "      <td>Branch</td>\n",
       "      <td>4</td>\n",
       "    </tr>\n",
       "    <tr>\n",
       "      <th>42</th>\n",
       "      <td>can i know my nearest branch details?</td>\n",
       "      <td>Branch</td>\n",
       "      <td>4</td>\n",
       "    </tr>\n",
       "    <tr>\n",
       "      <th>1</th>\n",
       "      <td>Can I get a loan</td>\n",
       "      <td>CreditCard</td>\n",
       "      <td>0</td>\n",
       "    </tr>\n",
       "  </tbody>\n",
       "</table>\n",
       "</div>"
      ],
      "text/plain": [
       "                                               Answer              Cat  LABEL\n",
       "45             Can you advise on the operating hours?           Branch      4\n",
       "70  How will I know if a future transfer is succes...         Transfer      8\n",
       "24                        want to apply personal loan            Loans      2\n",
       "55  how do I check balance of current account? Can...          Balance      5\n",
       "12  Want to know satus of my salary account applic...          Account      1\n",
       "62  I cannot find how to transfer money in interne...  InternetBanking      6\n",
       "74  Can I transfer money to India online? Is there...         Transfer      8\n",
       "41              Wheres the nearest branch to Sengkang           Branch      4\n",
       "42              can i know my nearest branch details?           Branch      4\n",
       "1                                    Can I get a loan       CreditCard      0"
      ]
     },
     "execution_count": 10,
     "metadata": {},
     "output_type": "execute_result"
    }
   ],
   "source": [
    "concated[0:10]"
   ]
  },
  {
   "cell_type": "code",
   "execution_count": 11,
   "metadata": {},
   "outputs": [
    {
     "data": {
      "text/plain": [
       "Index(['Answer', 'Cat', 'LABEL'], dtype='object')"
      ]
     },
     "execution_count": 11,
     "metadata": {},
     "output_type": "execute_result"
    }
   ],
   "source": [
    "concated.keys()"
   ]
  },
  {
   "cell_type": "code",
   "execution_count": 12,
   "metadata": {},
   "outputs": [
    {
     "data": {
      "text/plain": [
       "array([['Can you advise on the operating hours?', 'Branch', 4],\n",
       "       ['How will I know if a future transfer is successful?',\n",
       "        'Transfer', 8],\n",
       "       ['want to apply personal loan', 'Loans', 2],\n",
       "       ['how do I check balance of current account? Can I transfer the balance to another account?',\n",
       "        'Balance', 5],\n",
       "       ['Want to know satus of my salary account application', 'Account',\n",
       "        1],\n",
       "       ['I cannot find how to transfer money in internet bank page',\n",
       "        'InternetBanking', 6],\n",
       "       ['Can I transfer money to India online? Is there any extra charge for international transger?',\n",
       "        'Transfer', 8],\n",
       "       ['Wheres the nearest branch to Sengkang', 'Branch', 4],\n",
       "       ['can i know my nearest branch details?', 'Branch', 4],\n",
       "       ['Can I get a loan', 'CreditCard', 0]], dtype=object)"
      ]
     },
     "execution_count": 12,
     "metadata": {},
     "output_type": "execute_result"
    }
   ],
   "source": [
    "concated.values[0:10]"
   ]
  },
  {
   "cell_type": "code",
   "execution_count": 13,
   "metadata": {},
   "outputs": [
    {
     "data": {
      "text/plain": [
       "array(['Can you advise on the operating hours?',\n",
       "       'How will I know if a future transfer is successful?',\n",
       "       'want to apply personal loan',\n",
       "       'how do I check balance of current account? Can I transfer the balance to another account?',\n",
       "       'Want to know satus of my salary account application',\n",
       "       'I cannot find how to transfer money in internet bank page',\n",
       "       'Can I transfer money to India online? Is there any extra charge for international transger?',\n",
       "       'Wheres the nearest branch to Sengkang',\n",
       "       'can i know my nearest branch details?', 'Can I get a loan'],\n",
       "      dtype=object)"
      ]
     },
     "execution_count": 13,
     "metadata": {},
     "output_type": "execute_result"
    }
   ],
   "source": [
    "concated['Answer'].values[0:10]"
   ]
  },
  {
   "cell_type": "code",
   "execution_count": 14,
   "metadata": {},
   "outputs": [
    {
     "data": {
      "text/plain": [
       "array(['Branch', 'Transfer', 'Loans', 'Balance', 'Account',\n",
       "       'InternetBanking', 'Transfer', 'Branch', 'Branch', 'CreditCard'],\n",
       "      dtype=object)"
      ]
     },
     "execution_count": 14,
     "metadata": {},
     "output_type": "execute_result"
    }
   ],
   "source": [
    "concated['Cat'].values[0:10]"
   ]
  },
  {
   "cell_type": "code",
   "execution_count": 15,
   "metadata": {},
   "outputs": [
    {
     "name": "stdout",
     "output_type": "stream",
     "text": [
      "Unique Tokens: 254\n"
     ]
    }
   ],
   "source": [
    "# tokanize the dataset\n",
    "# maximum number of words to consider is 8000\n",
    "max_number_of_words = 10\n",
    "# maximum length of a single sentence is 130 words (remain will be trimmed)\n",
    "max_len = 10\n",
    "tokenizer = Tokenizer(num_words=max_number_of_words, filters='!\"#$%&()*+,-./:;<=>?@[\\]^_`{|}~', lower=True)\n",
    "tokenizer.fit_on_texts(concated['Answer'].values)\n",
    "sequences = tokenizer.texts_to_sequences(concated['Answer'].values)\n",
    "word_index = tokenizer.word_index\n",
    "print('Unique Tokens:', len(word_index))\n",
    "# use pad sequnece to make all sentences same size\n",
    "X = pad_sequences(sequences, maxlen=max_len)"
   ]
  },
  {
   "cell_type": "code",
   "execution_count": 16,
   "metadata": {},
   "outputs": [],
   "source": [
    "# prepare train and test sets\n",
    "X_train, X_test, y_train, y_test = train_test_split(X , labels, test_size=0.25, random_state=42)"
   ]
  },
  {
   "cell_type": "code",
   "execution_count": 18,
   "metadata": {},
   "outputs": [
    {
     "data": {
      "text/plain": [
       "array([[0., 0., 0., 0., 1., 0., 0., 0., 0., 0.],\n",
       "       [0., 0., 0., 0., 0., 0., 0., 0., 1., 0.]], dtype=float32)"
      ]
     },
     "execution_count": 18,
     "metadata": {},
     "output_type": "execute_result"
    }
   ],
   "source": [
    "# set number of epochs to 10\n",
    "epochs = 10\n",
    "# word embedding dimension\n",
    "emb_dim = 128\n",
    "# training batch size\n",
    "batch_size = 2\n",
    "\n",
    "labels[:2]"
   ]
  },
  {
   "cell_type": "code",
   "execution_count": 21,
   "metadata": {},
   "outputs": [
    {
     "name": "stdout",
     "output_type": "stream",
     "text": [
      "((60, 10), (60, 10), (20, 10), (20, 10))\n",
      "_________________________________________________________________\n",
      "Layer (type)                 Output Shape              Param #   \n",
      "=================================================================\n",
      "embedding_2 (Embedding)      (None, 10, 128)           1280      \n",
      "_________________________________________________________________\n",
      "spatial_dropout1d_2 (Spatial (None, 10, 128)           0         \n",
      "_________________________________________________________________\n",
      "lstm_2 (LSTM)                (None, 64)                49408     \n",
      "_________________________________________________________________\n",
      "dense_2 (Dense)              (None, 10)                650       \n",
      "=================================================================\n",
      "Total params: 51,338\n",
      "Trainable params: 51,338\n",
      "Non-trainable params: 0\n",
      "_________________________________________________________________\n",
      "None\n"
     ]
    }
   ],
   "source": [
    "# print the shapes of data sets\n",
    "print((X_train.shape, y_train.shape, X_test.shape, y_test.shape))\n",
    "\n",
    "# create the model\n",
    "model = Sequential()\n",
    "# add word embedding layer\n",
    "model.add(Embedding(max_number_of_words, emb_dim, input_length=X.shape[1]))\n",
    "# add a dropout layer (70%)\n",
    "model.add(SpatialDropout1D(0.7))\n",
    "# add LSTM layer\n",
    "model.add(LSTM(64, dropout=0.7, recurrent_dropout=0.7))\n",
    "# add a dence layer with 4 outputs and softmax activation\n",
    "model.add(Dense(10, activation='softmax'))\n",
    "# compile the model with categorical_crossentropy\n",
    "model.compile(optimizer='adam', loss='categorical_crossentropy', metrics=['acc'])\n",
    "# print the model summary\n",
    "print(model.summary())"
   ]
  },
  {
   "cell_type": "code",
   "execution_count": 22,
   "metadata": {},
   "outputs": [
    {
     "name": "stdout",
     "output_type": "stream",
     "text": [
      "WARNING:tensorflow:From E:\\ProgramData\\Anaconda3\\lib\\site-packages\\tensorflow\\python\\ops\\math_ops.py:3066: to_int32 (from tensorflow.python.ops.math_ops) is deprecated and will be removed in a future version.\n",
      "Instructions for updating:\n",
      "Use tf.cast instead.\n",
      "Train on 48 samples, validate on 12 samples\n",
      "Epoch 1/10\n",
      "48/48 [==============================] - 2s 35ms/step - loss: 2.3085 - acc: 0.1042 - val_loss: 2.2813 - val_acc: 0.1667\n",
      "Epoch 2/10\n",
      "48/48 [==============================] - 0s 3ms/step - loss: 2.2969 - acc: 0.1458 - val_loss: 2.2673 - val_acc: 0.0833\n",
      "Epoch 3/10\n",
      "48/48 [==============================] - 0s 3ms/step - loss: 2.2636 - acc: 0.2083 - val_loss: 2.2428 - val_acc: 0.3333\n",
      "Epoch 4/10\n",
      "48/48 [==============================] - 0s 3ms/step - loss: 2.2441 - acc: 0.2083 - val_loss: 2.2266 - val_acc: 0.2500\n",
      "Epoch 5/10\n",
      "48/48 [==============================] - 0s 3ms/step - loss: 2.2670 - acc: 0.1667 - val_loss: 2.2010 - val_acc: 0.2500\n",
      "Epoch 6/10\n",
      "48/48 [==============================] - 0s 3ms/step - loss: 2.2189 - acc: 0.2083 - val_loss: 2.1768 - val_acc: 0.2500\n",
      "Epoch 7/10\n",
      "48/48 [==============================] - 0s 3ms/step - loss: 2.2392 - acc: 0.2292 - val_loss: 2.1590 - val_acc: 0.3333\n",
      "Epoch 8/10\n",
      "48/48 [==============================] - 0s 3ms/step - loss: 2.2321 - acc: 0.2500 - val_loss: 2.1512 - val_acc: 0.2500\n",
      "Epoch 9/10\n",
      "48/48 [==============================] - 0s 3ms/step - loss: 2.2119 - acc: 0.2500 - val_loss: 2.1398 - val_acc: 0.3333\n",
      "Epoch 10/10\n",
      "48/48 [==============================] - 0s 3ms/step - loss: 2.1615 - acc: 0.3333 - val_loss: 2.1278 - val_acc: 0.2500\n"
     ]
    }
   ],
   "source": [
    "# train the model\n",
    "\n",
    "history = model.fit(X_train, y_train, epochs=epochs, \n",
    "                    batch_size=batch_size,validation_split=0.2,\n",
    "                    callbacks=[EarlyStopping(monitor='val_loss',patience=7, min_delta=0.0001)])\n"
   ]
  },
  {
   "cell_type": "code",
   "execution_count": 23,
   "metadata": {},
   "outputs": [
    {
     "name": "stdout",
     "output_type": "stream",
     "text": [
      "20/20 [==============================] - 0s 349us/step\n",
      "Test set\n",
      "  Loss: 2.411\n",
      "  Accuracy: 0.000\n"
     ]
    }
   ],
   "source": [
    "# evaluate the model\n",
    "accr = model.evaluate(X_test,y_test)\n",
    "print('Test set\\n  Loss: {:0.3f}\\n  Accuracy: {:0.3f}'.format(accr[0],accr[1]))"
   ]
  },
  {
   "cell_type": "code",
   "execution_count": 25,
   "metadata": {},
   "outputs": [
    {
     "data": {
      "image/png": "[encoded data removed]",
      "text/plain": [
       "<Figure size 432x288 with 1 Axes>"
      ]
     },
     "metadata": {
      "needs_background": "light"
     },
     "output_type": "display_data"
    },
    {
     "data": {
      "image/png": "[encoded data removed]",
      "text/plain": [
       "<Figure size 432x288 with 1 Axes>"
      ]
     },
     "metadata": {
      "needs_background": "light"
     },
     "output_type": "display_data"
    }
   ],
   "source": [
    "# generate the graph for training and validation accuracy, and training and validation loss\n",
    "import matplotlib.pyplot as plt\n",
    "\n",
    "acc = history.history['acc']\n",
    "val_acc = history.history['val_acc']\n",
    "loss = history.history['loss']\n",
    "val_loss = history.history['val_loss']\n",
    "epochs = range(1, len(acc) + 1)\n",
    "plt.plot(epochs, acc, 'bo', label='Training acc')\n",
    "plt.plot(epochs, val_acc, 'b', label='Validation acc')\n",
    "plt.title('Training and validation accuracy')\n",
    "plt.legend()\n",
    "plt.figure()\n",
    "plt.plot(epochs, loss, 'bo', label='Training loss')\n",
    "plt.plot(epochs, val_loss, 'b', label='Validation loss')\n",
    "plt.title('Training and validation loss')\n",
    "plt.legend()\n",
    "plt.show()"
   ]
  },
  {
   "cell_type": "code",
   "execution_count": 19,
   "metadata": {},
   "outputs": [
    {
     "name": "stdout",
     "output_type": "stream",
     "text": [
      "[[1.0663921e-04 5.1352254e-04 1.0853143e-04 9.9927133e-01]] health\n"
     ]
    }
   ],
   "source": [
    "# try to predict a new text sentence\n",
    "txt = [\"Regular fast food eating linked to fertility issues in women\"]\n",
    "seq = tokenizer.texts_to_sequences(txt)\n",
    "padded = pad_sequences(seq, maxlen=max_len)\n",
    "pred = model.predict(padded)\n",
    "labels = ['Info', 'Loans', 'Branch', 'Branch', 'Loans', 'Offers', 'Branch',\n",
    "       'InternetBanking', 'Loans', 'Branch']\n",
    "print(pred, labels[np.argmax(pred)])"
   ]
  },
  {
   "cell_type": "code",
   "execution_count": 20,
   "metadata": {},
   "outputs": [
    {
     "name": "stdout",
     "output_type": "stream",
     "text": [
      "Saved model to disk\n"
     ]
    }
   ],
   "source": [
    "# serialize model to JSON\n",
    "model_json = model.to_json()\n",
    "with open(\"C:/Users/sumud/Documents/AI/attempt2/final/model-3.json\", \"w\") as json_file:\n",
    "    json_file.write(model_json)\n",
    "# serialize weights to HDF5\n",
    "model.save_weights(\"C:/Users/sumud/Documents/AI/attempt2/final/model-3.h5\")\n",
    "print(\"Saved model to disk\")"
   ]
  },
  {
   "cell_type": "code",
   "execution_count": null,
   "metadata": {},
   "outputs": [],
   "source": [
    "# later...\n",
    " \n",
    "# load json and create model\n",
    "json_file = open('model.json', 'r')\n",
    "loaded_model_json = json_file.read()\n",
    "json_file.close()\n",
    "loaded_model = model_from_json(loaded_model_json)\n",
    "# load weights into new model\n",
    "loaded_model.load_weights(\"model.h5\")\n",
    "print(\"Loaded model from disk\")\n",
    " \n",
    "# evaluate loaded model on test data\n",
    "loaded_model.compile(loss='binary_crossentropy', optimizer='rmsprop', metrics=['accuracy'])\n",
    "score = loaded_model.evaluate(X, Y, verbose=0)\n",
    "print(\"%s: %.2f%%\" % (loaded_model.metrics_names[1], score[1]*100))"
   ]
  }
 ],
 "metadata": {
  "kernelspec": {
   "display_name": "Python 3",
   "language": "python",
   "name": "python3"
  },
  "language_info": {
   "codemirror_mode": {
    "name": "ipython",
    "version": 3
   },
   "file_extension": ".py",
   "mimetype": "text/x-python",
   "name": "python",
   "nbconvert_exporter": "python",
   "pygments_lexer": "ipython3",
   "version": "3.7.1"
  }
 },
 "nbformat": 4,
 "nbformat_minor": 2
}
