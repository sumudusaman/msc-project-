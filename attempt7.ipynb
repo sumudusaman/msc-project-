{
 "cells": [
  {
   "cell_type": "code",
   "execution_count": 2,
   "metadata": {},
   "outputs": [
    {
     "name": "stderr",
     "output_type": "stream",
     "text": [
      "Using TensorFlow backend.\n"
     ]
    }
   ],
   "source": [
    "# import libraries\n",
    "import numpy as np \n",
    "import pandas as pd  \n",
    "from keras.layers import Dense, Embedding, LSTM, SpatialDropout1D\n",
    "from keras.models import Sequential\n",
    "from sklearn.feature_extraction.text import CountVectorizer\n",
    "from keras.preprocessing.text import Tokenizer\n",
    "from keras.preprocessing.sequence import pad_sequences\n",
    "from sklearn.model_selection import train_test_split\n",
    "from keras.utils.np_utils import to_categorical\n",
    "from keras.callbacks import EarlyStopping"
   ]
  },
  {
   "cell_type": "code",
   "execution_count": 116,
   "metadata": {},
   "outputs": [],
   "source": [
    "# read data from csv file (columns TITLE and CATEGORY)\n",
    "\n",
    "data = pd.read_csv('C:/Users/sumud/Documents/AI/attempt2/final/data-att5.csv', usecols=['Answer', 'Cat'])"
   ]
  },
  {
   "cell_type": "code",
   "execution_count": 117,
   "metadata": {},
   "outputs": [
    {
     "name": "stderr",
     "output_type": "stream",
     "text": [
      "[nltk_data] Downloading package stopwords to\n",
      "[nltk_data]     C:\\Users\\sumud\\AppData\\Roaming\\nltk_data...\n",
      "[nltk_data]   Package stopwords is already up-to-date!\n"
     ]
    }
   ],
   "source": [
    "import nltk\n",
    "from nltk.corpus import stopwords\n",
    "from bs4 import BeautifulSoup\n",
    "import re\n",
    "# download stopwords\n",
    "nltk.download('stopwords')\n",
    "\n",
    "regexwhitespaces = re.compile('[/(){}\\[\\]\\|@,;]')\n",
    "regexsymbols = re.compile('[^0-9a-z #+_]')\n",
    "stopwords = set(stopwords.words('english'))\n",
    "\n",
    "def textcleanup(text):\n",
    "    # remove html\n",
    "    text = BeautifulSoup(text, \"lxml\").text  \n",
    "    # convert to lower\n",
    "    text = text.lower()  \n",
    "    # remove whitespaces\n",
    "    text = regexwhitespaces.sub(' ', text) \n",
    "    # remove symbols\n",
    "    text = regexsymbols.sub('', text)\n",
    "    # remove stopwords\n",
    "    text = ' '.join(word for word in text.split() \n",
    "                    if word not in stopwords)\n",
    "    return text\n",
    "    \n",
    "data['Answer'] = data['Answer'].apply(textcleanup)"
   ]
  },
  {
   "cell_type": "code",
   "execution_count": 5,
   "metadata": {},
   "outputs": [
    {
     "data": {
      "text/plain": [
       "Loans              674\n",
       "CreditCard         659\n",
       "Info               655\n",
       "Account            647\n",
       "InternetBanking    642\n",
       "Offers             632\n",
       "Transfer           615\n",
       "Branch             613\n",
       "Balance            598\n",
       "Fd                 572\n",
       "Name: Cat, dtype: int64"
      ]
     },
     "execution_count": 5,
     "metadata": {},
     "output_type": "execute_result"
    }
   ],
   "source": [
    "# print the item count for each category\n",
    "data.Cat.value_counts()"
   ]
  },
  {
   "cell_type": "code",
   "execution_count": 6,
   "metadata": {},
   "outputs": [],
   "source": [
    "# define the number of items per class - keep it a constant\n",
    "items_per_cat = 500\n",
    "# shuffle the data set\n",
    "shufds = data.reindex(np.random.permutation(data.index))\n",
    "\n",
    "# for each category, get items to match items_per_cat\n",
    "CreditCard = shufds[shufds['Cat'] == 'CreditCard'][:items_per_cat]\n",
    "Account = shufds[shufds['Cat'] == 'Account'][:items_per_cat]\n",
    "Transfer = shufds[shufds['Cat'] == 'Transfer'][:items_per_cat]\n",
    "Balance = shufds[shufds['Cat'] == 'Balance'][:items_per_cat]\n",
    "\n",
    "# contacenate the list again\n",
    "concated = pd.concat([CreditCard,Account,Transfer,Balance], ignore_index=True)\n",
    "# shuffle\n",
    "concated = concated.reindex(np.random.permutation(concated.index))\n",
    "# create a column for LABEL (keep default to 0)\n",
    "concated['LABEL'] = 0"
   ]
  },
  {
   "cell_type": "code",
   "execution_count": 8,
   "metadata": {},
   "outputs": [
    {
     "name": "stdout",
     "output_type": "stream",
     "text": [
      "812     1\n",
      "1681    3\n",
      "300     0\n",
      "1420    2\n",
      "8       0\n",
      "1005    2\n",
      "596     1\n",
      "1858    3\n",
      "1014    2\n",
      "431     0\n",
      "Name: LABEL, dtype: int64\n",
      "[[0. 1. 0. 0.]\n",
      " [0. 0. 0. 1.]\n",
      " [1. 0. 0. 0.]\n",
      " [0. 0. 1. 0.]\n",
      " [1. 0. 0. 0.]\n",
      " [0. 0. 1. 0.]\n",
      " [0. 1. 0. 0.]\n",
      " [0. 0. 0. 1.]\n",
      " [0. 0. 1. 0.]\n",
      " [1. 0. 0. 0.]]\n"
     ]
    }
   ],
   "source": [
    "# one hot encoding (assign an index to each label)\n",
    "concated.loc[concated['Cat'] == 'CreditCard', 'LABEL'] = 0\n",
    "concated.loc[concated['Cat'] == 'Account', 'LABEL'] = 1\n",
    "concated.loc[concated['Cat'] == 'Transfer', 'LABEL'] = 2\n",
    "concated.loc[concated['Cat'] == 'Balance', 'LABEL'] = 3\n",
    "\n",
    "print(concated['LABEL'][:10])\n",
    "# labels to categirical (10 classes)\n",
    "labels = to_categorical(concated['LABEL'], num_classes=4)\n",
    "print(labels[:10])"
   ]
  },
  {
   "cell_type": "code",
   "execution_count": 9,
   "metadata": {},
   "outputs": [
    {
     "data": {
      "text/plain": [
       "Index(['Answer', 'Cat', 'LABEL'], dtype='object')"
      ]
     },
     "execution_count": 9,
     "metadata": {},
     "output_type": "execute_result"
    }
   ],
   "source": [
    "concated.keys()"
   ]
  },
  {
   "cell_type": "code",
   "execution_count": 10,
   "metadata": {},
   "outputs": [
    {
     "data": {
      "text/plain": [
       "array(['Account', 'Balance', 'CreditCard', 'Transfer', 'CreditCard',\n",
       "       'Transfer', 'Account', 'Balance', 'Transfer', 'CreditCard'],\n",
       "      dtype=object)"
      ]
     },
     "execution_count": 10,
     "metadata": {},
     "output_type": "execute_result"
    }
   ],
   "source": [
    "concated['Cat'].values[0:10]"
   ]
  },
  {
   "cell_type": "code",
   "execution_count": 40,
   "metadata": {},
   "outputs": [
    {
     "name": "stdout",
     "output_type": "stream",
     "text": [
      "Unique Tokens: 22496\n"
     ]
    }
   ],
   "source": [
    "# tokanize the dataset\n",
    "# maximum number of words to consider is 10000\n",
    "max_number_of_words = 20000\n",
    "# maximum length of a single sentence is 130 words (remain will be trimmed)\n",
    "max_len = 130\n",
    "tokenizer = Tokenizer(num_words=max_number_of_words, filters='!\"#$%&()*+,-./:;<=>?@[\\]^_`{|}~', lower=True)\n",
    "tokenizer.fit_on_texts(concated['Answer'].values)\n",
    "sequences = tokenizer.texts_to_sequences(concated['Answer'].values)\n",
    "word_index = tokenizer.word_index\n",
    "print('Unique Tokens:', len(word_index))\n",
    "# use pad sequnece to make all sentences same size\n",
    "X = pad_sequences(sequences, maxlen=max_len)"
   ]
  },
  {
   "cell_type": "code",
   "execution_count": 36,
   "metadata": {},
   "outputs": [],
   "source": [
    "# prepare train and test sets\n",
    "X_train, X_test, y_train, y_test = train_test_split(X , labels, test_size=0.25, random_state=42)"
   ]
  },
  {
   "cell_type": "code",
   "execution_count": 109,
   "metadata": {},
   "outputs": [
    {
     "data": {
      "text/plain": [
       "array([[0., 1., 0., 0.],\n",
       "       [0., 0., 0., 1.]], dtype=float32)"
      ]
     },
     "execution_count": 109,
     "metadata": {},
     "output_type": "execute_result"
    }
   ],
   "source": [
    "# set number of epochs to 10\n",
    "epochs = 10\n",
    "# word embedding dimension\n",
    "emb_dim = 256\n",
    "# training batch size\n",
    "batch_size = 32\n",
    "\n",
    "labels[:2]"
   ]
  },
  {
   "cell_type": "code",
   "execution_count": 110,
   "metadata": {},
   "outputs": [
    {
     "name": "stdout",
     "output_type": "stream",
     "text": [
      "((1500, 130), (1500, 4), (500, 130), (500, 4))\n",
      "_________________________________________________________________\n",
      "Layer (type)                 Output Shape              Param #   \n",
      "=================================================================\n",
      "embedding_22 (Embedding)     (None, 130, 256)          5120000   \n",
      "_________________________________________________________________\n",
      "spatial_dropout1d_22 (Spatia (None, 130, 256)          0         \n",
      "_________________________________________________________________\n",
      "lstm_22 (LSTM)               (None, 32)                36992     \n",
      "_________________________________________________________________\n",
      "dense_22 (Dense)             (None, 4)                 132       \n",
      "=================================================================\n",
      "Total params: 5,157,124\n",
      "Trainable params: 5,157,124\n",
      "Non-trainable params: 0\n",
      "_________________________________________________________________\n",
      "None\n"
     ]
    }
   ],
   "source": [
    "# print the shapes of data sets\n",
    "print((X_train.shape, y_train.shape, X_test.shape, y_test.shape))\n",
    "\n",
    "# create the model\n",
    "model = Sequential()\n",
    "# add word embedding layer\n",
    "model.add(Embedding(max_number_of_words, emb_dim, input_length=X.shape[1]))\n",
    "# add a dropout layer (70%)\n",
    "model.add(SpatialDropout1D(0.05))\n",
    "# add LSTM layer\n",
    "model.add(LSTM(256))\n",
    "# add a dence layer with 4 outputs and softmax activation\n",
    "model.add(Dense(4, activation='softmax'))\n",
    "# compile the model with categorical_crossentropy\n",
    "model.compile(optimizer='adam', loss='categorical_crossentropy', metrics=['accuracy'])\n",
    "# print the model summary\n",
    "print(model.summary())"
   ]
  },
  {
   "cell_type": "code",
   "execution_count": 111,
   "metadata": {},
   "outputs": [
    {
     "name": "stdout",
     "output_type": "stream",
     "text": [
      "Train on 1200 samples, validate on 300 samples\n",
      "Epoch 1/10\n",
      "1200/1200 [==============================] - 8s 7ms/step - loss: 1.3565 - acc: 0.4300 - val_loss: 1.2842 - val_acc: 0.5633\n",
      "Epoch 2/10\n",
      "1200/1200 [==============================] - 4s 4ms/step - loss: 0.7863 - acc: 0.8025 - val_loss: 0.7894 - val_acc: 0.7267\n",
      "Epoch 3/10\n",
      "1200/1200 [==============================] - 4s 4ms/step - loss: 0.2672 - acc: 0.9658 - val_loss: 0.6412 - val_acc: 0.7900\n",
      "Epoch 4/10\n",
      "1200/1200 [==============================] - 5s 4ms/step - loss: 0.1223 - acc: 0.9792 - val_loss: 0.7055 - val_acc: 0.7767\n",
      "Epoch 5/10\n",
      "1200/1200 [==============================] - 4s 4ms/step - loss: 0.0715 - acc: 0.9933 - val_loss: 0.6331 - val_acc: 0.7967\n",
      "Epoch 6/10\n",
      "1200/1200 [==============================] - 4s 4ms/step - loss: 0.0426 - acc: 0.9925 - val_loss: 0.6605 - val_acc: 0.8200\n",
      "Epoch 7/10\n",
      "1200/1200 [==============================] - 4s 4ms/step - loss: 0.0191 - acc: 1.0000 - val_loss: 0.6703 - val_acc: 0.8300\n",
      "Epoch 8/10\n",
      "1200/1200 [==============================] - 4s 4ms/step - loss: 0.0132 - acc: 1.0000 - val_loss: 0.7009 - val_acc: 0.8233\n",
      "Epoch 9/10\n",
      "1200/1200 [==============================] - 4s 4ms/step - loss: 0.0141 - acc: 0.9992 - val_loss: 0.7432 - val_acc: 0.8033\n",
      "Epoch 10/10\n",
      "1200/1200 [==============================] - 4s 4ms/step - loss: 0.0086 - acc: 1.0000 - val_loss: 0.7507 - val_acc: 0.8133\n"
     ]
    }
   ],
   "source": [
    "# train the model\n",
    "\n",
    "history = model.fit(X_train, y_train, epochs=epochs, \n",
    "                    batch_size=batch_size,validation_split=0.2,\n",
    "                    callbacks=[EarlyStopping(monitor='val_loss',patience=7, min_delta=0.0001)])\n"
   ]
  },
  {
   "cell_type": "code",
   "execution_count": 96,
   "metadata": {},
   "outputs": [
    {
     "name": "stdout",
     "output_type": "stream",
     "text": [
      "500/500 [==============================] - 1s 1ms/step\n",
      "Test set\n",
      "  Loss: 0.594\n",
      "  Accuracy: 0.816\n"
     ]
    }
   ],
   "source": [
    "# evaluate the model\n",
    "accr = model.evaluate(X_test,y_test)\n",
    "print('Test set\\n  Loss: {:0.3f}\\n  Accuracy: {:0.3f}'.format(accr[0],accr[1]))"
   ]
  },
  {
   "cell_type": "code",
   "execution_count": 91,
   "metadata": {},
   "outputs": [
    {
     "data": {
      "image/png": "[encoded data removed]",
      "text/plain": [
       "<Figure size 432x288 with 1 Axes>"
      ]
     },
     "metadata": {
      "needs_background": "light"
     },
     "output_type": "display_data"
    },
    {
     "data": {
      "image/png": "[encoded data removed]",
      "text/plain": [
       "<Figure size 432x288 with 1 Axes>"
      ]
     },
     "metadata": {
      "needs_background": "light"
     },
     "output_type": "display_data"
    }
   ],
   "source": [
    "# generate the graph for training and validation accuracy, and training and validation loss\n",
    "import matplotlib.pyplot as plt\n",
    "\n",
    "acc = history.history['acc']\n",
    "val_acc = history.history['val_acc']\n",
    "loss = history.history['loss']\n",
    "val_loss = history.history['val_loss']\n",
    "epochs = range(1, len(acc) + 1)\n",
    "plt.plot(epochs, acc, 'bo', label='Training acc')\n",
    "plt.plot(epochs, val_acc, 'b', label='Validation acc')\n",
    "plt.title('Training and validation accuracy')\n",
    "plt.legend()\n",
    "plt.figure()\n",
    "plt.plot(epochs, loss, 'bo', label='Training loss')\n",
    "plt.plot(epochs, val_loss, 'b', label='Validation loss')\n",
    "plt.title('Training and validation loss')\n",
    "plt.legend()\n",
    "plt.show()"
   ]
  },
  {
   "cell_type": "code",
   "execution_count": 23,
   "metadata": {},
   "outputs": [
    {
     "name": "stdout",
     "output_type": "stream",
     "text": [
      "[[0.79757947 0.09528358 0.10713701]] Account\n"
     ]
    }
   ],
   "source": [
    "# try to predict a new text sentence\n",
    "txt = [\"how to get a credit card\"]\n",
    "seq = tokenizer.texts_to_sequences(txt)\n",
    "padded = pad_sequences(seq, maxlen=max_len)\n",
    "pred = model.predict(padded)\n",
    "labels = ['Account', 'Transfer', 'CreditCard']\n",
    "print(pred, labels[np.argmax(pred)])"
   ]
  },
  {
   "cell_type": "code",
   "execution_count": 24,
   "metadata": {},
   "outputs": [
    {
     "name": "stdout",
     "output_type": "stream",
     "text": [
      "Saved model to disk\n"
     ]
    }
   ],
   "source": [
    "# serialize model to JSON\n",
    "model_json = model.to_json()\n",
    "with open(\"C:/Users/sumud/Documents/AI/attempt2/final/model-4.json\", \"w\") as json_file:\n",
    "    json_file.write(model_json)\n",
    "# serialize weights to HDF5\n",
    "model.save_weights(\"C:/Users/sumud/Documents/AI/attempt2/final/model-4.h5\")\n",
    "print(\"Saved model to disk\")"
   ]
  },
  {
   "cell_type": "code",
   "execution_count": null,
   "metadata": {},
   "outputs": [],
   "source": [
    "# later...\n",
    " \n",
    "# load json and create model\n",
    "json_file = open('model.json', 'r')\n",
    "loaded_model_json = json_file.read()\n",
    "json_file.close()\n",
    "loaded_model = model_from_json(loaded_model_json)\n",
    "# load weights into new model\n",
    "loaded_model.load_weights(\"model.h5\")\n",
    "print(\"Loaded model from disk\")\n",
    " \n",
    "# evaluate loaded model on test data\n",
    "loaded_model.compile(loss='binary_crossentropy', optimizer='rmsprop', metrics=['accuracy'])\n",
    "score = loaded_model.evaluate(X, Y, verbose=0)\n",
    "print(\"%s: %.2f%%\" % (loaded_model.metrics_names[1], score[1]*100))"
   ]
  }
 ],
 "metadata": {
  "kernelspec": {
   "display_name": "Python 3",
   "language": "python",
   "name": "python3"
  },
  "language_info": {
   "codemirror_mode": {
    "name": "ipython",
    "version": 3
   },
   "file_extension": ".py",
   "mimetype": "text/x-python",
   "name": "python",
   "nbconvert_exporter": "python",
   "pygments_lexer": "ipython3",
   "version": "3.7.1"
  }
 },
 "nbformat": 4,
 "nbformat_minor": 2
}
