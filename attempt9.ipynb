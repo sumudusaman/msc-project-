{
 "cells": [
  {
   "cell_type": "code",
   "execution_count": 1,
   "metadata": {},
   "outputs": [
    {
     "name": "stderr",
     "output_type": "stream",
     "text": [
      "Using TensorFlow backend.\n"
     ]
    }
   ],
   "source": [
    "# import libraries\n",
    "import numpy as np \n",
    "import pandas as pd  \n",
    "from keras.layers import Dense, Embedding, LSTM, SpatialDropout1D\n",
    "from keras.models import Sequential\n",
    "from sklearn.feature_extraction.text import CountVectorizer\n",
    "from keras.preprocessing.text import Tokenizer\n",
    "from keras.preprocessing.sequence import pad_sequences\n",
    "from sklearn.model_selection import train_test_split\n",
    "from keras.utils.np_utils import to_categorical\n",
    "from keras.callbacks import EarlyStopping"
   ]
  },
  {
   "cell_type": "code",
   "execution_count": 2,
   "metadata": {},
   "outputs": [],
   "source": [
    "# read data from csv file (columns TITLE and CATEGORY)\n",
    "\n",
    "data = pd.read_csv('C:/Users/sumud/Documents/AI/attempt2/final/data-att9.csv', usecols=['Answer', 'Cat'])"
   ]
  },
  {
   "cell_type": "code",
   "execution_count": 3,
   "metadata": {},
   "outputs": [
    {
     "name": "stderr",
     "output_type": "stream",
     "text": [
      "[nltk_data] Downloading package stopwords to\n",
      "[nltk_data]     C:\\Users\\sumud\\AppData\\Roaming\\nltk_data...\n",
      "[nltk_data]   Package stopwords is already up-to-date!\n"
     ]
    }
   ],
   "source": [
    "# data cleaning\n",
    "import nltk\n",
    "from nltk.corpus import stopwords\n",
    "from bs4 import BeautifulSoup\n",
    "import re\n",
    "# download stopwords\n",
    "nltk.download('stopwords')\n",
    "\n",
    "regexwhitespaces = re.compile('[/(){}\\[\\]\\|@,;]')\n",
    "regexsymbols = re.compile('[^0-9a-z #+_]')\n",
    "stopwords = set(stopwords.words('english'))\n",
    "\n",
    "def textcleanup(text):\n",
    "    # remove html\n",
    "    text = BeautifulSoup(text, \"lxml\").text  \n",
    "    # convert to lower\n",
    "    text = text.lower()  \n",
    "    # remove whitespaces\n",
    "    text = regexwhitespaces.sub(' ', text) \n",
    "    # remove symbols\n",
    "    text = regexsymbols.sub('', text)\n",
    "    # remove stopwords\n",
    "    text = ' '.join(word for word in text.split() \n",
    "                    if word not in stopwords)\n",
    "    return text\n",
    "    \n",
    "data['Answer'] = data['Answer'].apply(textcleanup)"
   ]
  },
  {
   "cell_type": "code",
   "execution_count": 4,
   "metadata": {},
   "outputs": [
    {
     "data": {
      "text/plain": [
       "Account            2000\n",
       "Offers             2000\n",
       "Balance            2000\n",
       "Loans              2000\n",
       "Info               2000\n",
       "php                2000\n",
       "Fd                 2000\n",
       "InternetBanking    2000\n",
       "Transfer           2000\n",
       "Branch             2000\n",
       "CreditCard         2000\n",
       "Name: Cat, dtype: int64"
      ]
     },
     "execution_count": 4,
     "metadata": {},
     "output_type": "execute_result"
    }
   ],
   "source": [
    "# print the item count for each category\n",
    "data.Cat.value_counts()"
   ]
  },
  {
   "cell_type": "code",
   "execution_count": 5,
   "metadata": {},
   "outputs": [],
   "source": [
    "# data preparation\n",
    "# define the number of items per class - keep it a constant\n",
    "items_per_cat = 2000\n",
    "# shuffle the data set\n",
    "shufds = data.reindex(np.random.permutation(data.index))\n",
    "\n",
    "# for each category, get items to match items_per_cat\n",
    "CreditCard = shufds[shufds['Cat'] == 'CreditCard'][:items_per_cat]\n",
    "Account = shufds[shufds['Cat'] == 'Account'][:items_per_cat]\n",
    "Loans = shufds[shufds['Cat'] == 'Loans'][:items_per_cat]\n",
    "Info = shufds[shufds['Cat'] == 'Info'][:items_per_cat]\n",
    "Branch = shufds[shufds['Cat'] == 'Branch'][:items_per_cat]\n",
    "Balance = shufds[shufds['Cat'] == 'Balance'][:items_per_cat]\n",
    "InternetBanking = shufds[shufds['Cat'] == 'InternetBanking'][:items_per_cat]\n",
    "Offers = shufds[shufds['Cat'] == 'Offers'][:items_per_cat]\n",
    "Transfer = shufds[shufds['Cat'] == 'Transfer'][:items_per_cat]\n",
    "Fd = shufds[shufds['Cat'] == 'Fd'][:items_per_cat]\n",
    "\n",
    "# contacenate the list again\n",
    "# concated = pd.concat([CreditCard,Account,Loans,Info,Branch,Balance,InternetBanking,Offers,Transfer,Fd], ignore_index=True)\n",
    "concated = pd.concat([CreditCard,Account,Loans,Info], ignore_index=True)\n",
    "# shuffle\n",
    "concated = concated.reindex(np.random.permutation(concated.index))\n",
    "# create a column for LABEL (keep default to 0)\n",
    "concated['LABEL'] = 0"
   ]
  },
  {
   "cell_type": "code",
   "execution_count": 6,
   "metadata": {},
   "outputs": [
    {
     "name": "stdout",
     "output_type": "stream",
     "text": [
      "826     0\n",
      "1719    0\n",
      "7727    3\n",
      "2373    1\n",
      "7628    3\n",
      "3338    1\n",
      "535     0\n",
      "5172    2\n",
      "5141    2\n",
      "6352    3\n",
      "Name: LABEL, dtype: int64\n",
      "[[1. 0. 0. 0.]\n",
      " [1. 0. 0. 0.]\n",
      " [0. 0. 0. 1.]\n",
      " [0. 1. 0. 0.]\n",
      " [0. 0. 0. 1.]\n",
      " [0. 1. 0. 0.]\n",
      " [1. 0. 0. 0.]\n",
      " [0. 0. 1. 0.]\n",
      " [0. 0. 1. 0.]\n",
      " [0. 0. 0. 1.]]\n"
     ]
    }
   ],
   "source": [
    "# one hot encoding (assign an index to each label)\n",
    "concated.loc[concated['Cat'] == 'CreditCard', 'LABEL'] = 0\n",
    "concated.loc[concated['Cat'] == 'Account', 'LABEL'] = 1\n",
    "concated.loc[concated['Cat'] == 'Loans', 'LABEL'] = 2\n",
    "concated.loc[concated['Cat'] == 'Info', 'LABEL'] = 3\n",
    "#concated.loc[concated['Cat'] == 'Branch', 'LABEL'] = 4\n",
    "#concated.loc[concated['Cat'] == 'Balance', 'LABEL'] = 5\n",
    "#concated.loc[concated['Cat'] == 'InternetBanking', 'LABEL'] = 6\n",
    "#concated.loc[concated['Cat'] == 'Offers', 'LABEL'] = 7\n",
    "#concated.loc[concated['Cat'] == 'Transfer', 'LABEL'] = 8\n",
    "#concated.loc[concated['Cat'] == 'Fd', 'LABEL'] = 9\n",
    "\n",
    "print(concated['LABEL'][:10])\n",
    "# labels to categirical (10 classes)\n",
    "labels = to_categorical(concated['LABEL'], num_classes=4)\n",
    "print(labels[:10])"
   ]
  },
  {
   "cell_type": "code",
   "execution_count": 7,
   "metadata": {},
   "outputs": [
    {
     "data": {
      "text/plain": [
       "Index(['Answer', 'Cat', 'LABEL'], dtype='object')"
      ]
     },
     "execution_count": 7,
     "metadata": {},
     "output_type": "execute_result"
    }
   ],
   "source": [
    "concated.keys()"
   ]
  },
  {
   "cell_type": "code",
   "execution_count": 8,
   "metadata": {},
   "outputs": [
    {
     "data": {
      "text/plain": [
       "array(['CreditCard', 'CreditCard', 'Info', 'Account', 'Info', 'Account',\n",
       "       'CreditCard', 'Loans', 'Loans', 'Info'], dtype=object)"
      ]
     },
     "execution_count": 8,
     "metadata": {},
     "output_type": "execute_result"
    }
   ],
   "source": [
    "concated['Cat'].values[0:10]"
   ]
  },
  {
   "cell_type": "code",
   "execution_count": 9,
   "metadata": {},
   "outputs": [
    {
     "name": "stdout",
     "output_type": "stream",
     "text": [
      "Unique Tokens: 62418\n"
     ]
    }
   ],
   "source": [
    "# tokanize the dataset\n",
    "# maximum number of words to consider is 10000\n",
    "max_number_of_words = 10000\n",
    "# maximum length of a single sentence is 130 words (remain will be trimmed)\n",
    "max_len = 500\n",
    "tokenizer = Tokenizer(num_words=max_number_of_words, filters='!\"#$%&()*+,-./:;<=>?@[\\]^_`{|}~', lower=True)\n",
    "tokenizer.fit_on_texts(concated['Answer'].values)\n",
    "sequences = tokenizer.texts_to_sequences(concated['Answer'].values)\n",
    "word_index = tokenizer.word_index\n",
    "print('Unique Tokens:', len(word_index))\n",
    "# use pad sequnece to make all sentences same size\n",
    "X = pad_sequences(sequences, maxlen=max_len)"
   ]
  },
  {
   "cell_type": "code",
   "execution_count": 10,
   "metadata": {},
   "outputs": [],
   "source": [
    "# prepare train and test sets\n",
    "X_train, X_test, y_train, y_test = train_test_split(X , labels, test_size=0.25, random_state=42)"
   ]
  },
  {
   "cell_type": "code",
   "execution_count": 42,
   "metadata": {},
   "outputs": [
    {
     "name": "stdout",
     "output_type": "stream",
     "text": [
      "62419\n"
     ]
    }
   ],
   "source": [
    "# set number of epochs to 5\n",
    "epochs = 10\n",
    "# word embedding dimension\n",
    "emb_dim = 128\n",
    "# training batch size\n",
    "batch_size = 256\n",
    "# size of the vocabulary\n",
    "vocabularylength = len(tokenizer.word_index) + 1\n",
    "labels[:2]\n",
    "print(vocabularylength)"
   ]
  },
  {
   "cell_type": "code",
   "execution_count": 43,
   "metadata": {
    "scrolled": true
   },
   "outputs": [
    {
     "name": "stdout",
     "output_type": "stream",
     "text": [
      "((6000, 500), (6000, 4), (2000, 500), (2000, 4))\n",
      "_________________________________________________________________\n",
      "Layer (type)                 Output Shape              Param #   \n",
      "=================================================================\n",
      "input_1 (InputLayer)         (None, 500)               0         \n",
      "_________________________________________________________________\n",
      "embedding_10 (Embedding)     (None, 500, 128)          7989632   \n",
      "_________________________________________________________________\n",
      "lstm_7 (LSTM)                (None, 64)                49408     \n",
      "_________________________________________________________________\n",
      "dense_7 (Dense)              (None, 32)                2080      \n",
      "_________________________________________________________________\n",
      "dense_8 (Dense)              (None, 4)                 132       \n",
      "=================================================================\n",
      "Total params: 8,041,252\n",
      "Trainable params: 8,041,252\n",
      "Non-trainable params: 0\n",
      "_________________________________________________________________\n",
      "None\n"
     ]
    }
   ],
   "source": [
    "# create the model\n",
    "\n",
    "from keras.models import Model, Input\n",
    "from keras.layers import BatchNormalization,Flatten, LSTM, Embedding, Dense, TimeDistributed, Dropout, Bidirectional\n",
    "from keras_contrib.layers import CRF\n",
    "from keras.optimizers import Adam\n",
    "\n",
    "# print the shapes of data sets\n",
    "print((X_train.shape, y_train.shape, X_test.shape, y_test.shape))\n",
    "\n",
    "\n",
    "inputs = Input(shape=(max_len, ))\n",
    "embedding = Embedding(vocabularylength,\n",
    "                            emb_dim,\n",
    "                            input_length=max_len)(inputs)\n",
    "\n",
    "x = LSTM(64)(embedding)\n",
    "x = Dense(32, activation='relu')(x)\n",
    "predictions = Dense(4, activation='softmax')(x)\n",
    "model = Model(inputs=[inputs], outputs=predictions)\n",
    "model.compile(optimizer='adam',\n",
    "              loss='categorical_crossentropy',\n",
    "              metrics=['acc'])\n",
    "\n",
    "\n",
    "\n",
    "# print the model summary\n",
    "print(model.summary())"
   ]
  },
  {
   "cell_type": "code",
   "execution_count": 44,
   "metadata": {},
   "outputs": [
    {
     "name": "stdout",
     "output_type": "stream",
     "text": [
      "Train on 4800 samples, validate on 1200 samples\n",
      "Epoch 1/10\n",
      "4800/4800 [==============================] - 15s 3ms/step - loss: 1.3680 - acc: 0.3835 - val_loss: 1.2917 - val_acc: 0.4525\n",
      "Epoch 2/10\n",
      "4800/4800 [==============================] - 13s 3ms/step - loss: 1.1077 - acc: 0.5260 - val_loss: 0.9799 - val_acc: 0.5508\n",
      "Epoch 3/10\n",
      "4800/4800 [==============================] - 13s 3ms/step - loss: 0.7523 - acc: 0.6892 - val_loss: 0.7819 - val_acc: 0.6817\n",
      "Epoch 4/10\n",
      "4800/4800 [==============================] - 12s 3ms/step - loss: 0.5570 - acc: 0.7927 - val_loss: 0.6426 - val_acc: 0.7300\n",
      "Epoch 5/10\n",
      "4800/4800 [==============================] - 12s 3ms/step - loss: 0.3699 - acc: 0.8790 - val_loss: 0.5221 - val_acc: 0.8025\n",
      "Epoch 6/10\n",
      "4800/4800 [==============================] - 13s 3ms/step - loss: 0.1932 - acc: 0.9542 - val_loss: 0.5212 - val_acc: 0.8258\n",
      "Epoch 7/10\n",
      "4800/4800 [==============================] - 12s 3ms/step - loss: 0.1126 - acc: 0.9673 - val_loss: 0.9347 - val_acc: 0.7292\n",
      "Epoch 8/10\n",
      "4800/4800 [==============================] - 12s 3ms/step - loss: 0.1266 - acc: 0.9592 - val_loss: 0.5523 - val_acc: 0.8075\n",
      "Epoch 9/10\n",
      "4800/4800 [==============================] - 13s 3ms/step - loss: 0.0534 - acc: 0.9885 - val_loss: 0.6385 - val_acc: 0.8142\n",
      "Epoch 10/10\n",
      "4800/4800 [==============================] - 13s 3ms/step - loss: 0.0260 - acc: 0.9946 - val_loss: 0.6338 - val_acc: 0.8308\n"
     ]
    }
   ],
   "source": [
    "# train the model\n",
    "\n",
    "\n",
    "history = model.fit(X_train, y_train, epochs=epochs, \n",
    "                    batch_size=batch_size,validation_split=0.2,shuffle=True)\n",
    "#,\n",
    " #                   callbacks=[EarlyStopping(monitor='val_loss',patience=7, min_delta=0.0001)])\n"
   ]
  },
  {
   "cell_type": "code",
   "execution_count": 45,
   "metadata": {},
   "outputs": [
    {
     "name": "stdout",
     "output_type": "stream",
     "text": [
      "2000/2000 [==============================] - 4s 2ms/step\n",
      "Test set\n",
      "  Loss: 0.666\n",
      "  Accuracy: 0.821\n"
     ]
    }
   ],
   "source": [
    "# evaluate the model\n",
    "accr = model.evaluate(X_test,y_test)\n",
    "print('Test set\\n  Loss: {:0.3f}\\n  Accuracy: {:0.3f}'.format(accr[0],accr[1]))"
   ]
  },
  {
   "cell_type": "code",
   "execution_count": 46,
   "metadata": {},
   "outputs": [
    {
     "data": {
      "image/png": "[encoded data removed]",
      "text/plain": [
       "<Figure size 432x288 with 1 Axes>"
      ]
     },
     "metadata": {
      "needs_background": "light"
     },
     "output_type": "display_data"
    },
    {
     "data": {
      "image/png": "[encoded data removed]",
      "text/plain": [
       "<Figure size 432x288 with 1 Axes>"
      ]
     },
     "metadata": {
      "needs_background": "light"
     },
     "output_type": "display_data"
    }
   ],
   "source": [
    "# generate the graph for training and validation accuracy, and training and validation loss\n",
    "import matplotlib.pyplot as plt\n",
    "\n",
    "acc = history.history['acc']\n",
    "val_acc = history.history['val_acc']\n",
    "loss = history.history['loss']\n",
    "val_loss = history.history['val_loss']\n",
    "epochs = range(1, len(acc) + 1)\n",
    "plt.plot(epochs, acc, 'bo', label='Training acc')\n",
    "plt.plot(epochs, val_acc, 'b', label='Validation acc')\n",
    "plt.title('Training and validation accuracy')\n",
    "plt.legend()\n",
    "plt.figure()\n",
    "plt.plot(epochs, loss, 'bo', label='Training loss')\n",
    "plt.plot(epochs, val_loss, 'b', label='Validation loss')\n",
    "plt.title('Training and validation loss')\n",
    "plt.legend()\n",
    "plt.show()"
   ]
  },
  {
   "cell_type": "code",
   "execution_count": 23,
   "metadata": {},
   "outputs": [
    {
     "name": "stdout",
     "output_type": "stream",
     "text": [
      "[[0.79757947 0.09528358 0.10713701]] Account\n"
     ]
    }
   ],
   "source": [
    "# try to predict a new text sentence\n",
    "txt = [\"how to get a credit card\"]\n",
    "seq = tokenizer.texts_to_sequences(txt)\n",
    "padded = pad_sequences(seq, maxlen=max_len)\n",
    "pred = model.predict(padded)\n",
    "labels = ['Account', 'Transfer', 'CreditCard']\n",
    "print(pred, labels[np.argmax(pred)])"
   ]
  },
  {
   "cell_type": "code",
   "execution_count": 24,
   "metadata": {},
   "outputs": [
    {
     "name": "stdout",
     "output_type": "stream",
     "text": [
      "Saved model to disk\n"
     ]
    }
   ],
   "source": [
    "# serialize model to JSON\n",
    "model_json = model.to_json()\n",
    "with open(\"C:/Users/sumud/Documents/AI/attempt2/final/model-4.json\", \"w\") as json_file:\n",
    "    json_file.write(model_json)\n",
    "# serialize weights to HDF5\n",
    "model.save_weights(\"C:/Users/sumud/Documents/AI/attempt2/final/model-4.h5\")\n",
    "print(\"Saved model to disk\")"
   ]
  },
  {
   "cell_type": "code",
   "execution_count": null,
   "metadata": {},
   "outputs": [],
   "source": [
    "# later...\n",
    " \n",
    "# load json and create model\n",
    "json_file = open('model.json', 'r')\n",
    "loaded_model_json = json_file.read()\n",
    "json_file.close()\n",
    "loaded_model = model_from_json(loaded_model_json)\n",
    "# load weights into new model\n",
    "loaded_model.load_weights(\"model.h5\")\n",
    "print(\"Loaded model from disk\")\n",
    " \n",
    "# evaluate loaded model on test data\n",
    "loaded_model.compile(loss='binary_crossentropy', optimizer='rmsprop', metrics=['accuracy'])\n",
    "score = loaded_model.evaluate(X, Y, verbose=0)\n",
    "print(\"%s: %.2f%%\" % (loaded_model.metrics_names[1], score[1]*100))"
   ]
  }
 ],
 "metadata": {
  "kernelspec": {
   "display_name": "Python 3",
   "language": "python",
   "name": "python3"
  },
  "language_info": {
   "codemirror_mode": {
    "name": "ipython",
    "version": 3
   },
   "file_extension": ".py",
   "mimetype": "text/x-python",
   "name": "python",
   "nbconvert_exporter": "python",
   "pygments_lexer": "ipython3",
   "version": "3.7.1"
  }
 },
 "nbformat": 4,
 "nbformat_minor": 2
}
